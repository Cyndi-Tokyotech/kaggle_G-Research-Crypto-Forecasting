{
 "cells": [
  {
   "cell_type": "code",
   "execution_count": null,
   "metadata": {},
   "outputs": [],
   "source": [
    "import os\n",
    "import numpy as np \n",
    "import pandas as pd \n",
    "import random\n",
    "import matplotlib.pyplot as plt\n",
    "import seaborn as sns\n",
    "from lightgbm import LGBMRegressor\n",
    "import time\n",
    "from datetime import datetime\n",
    "# auxiliary function, from datetime to timestamp\n",
    "totimestamp = lambda s: np.int32(time.mktime(datetime.strptime(s, \"%d/%m/%Y\").timetuple()))\n",
    "import gresearch_crypto\n",
    "\n",
    "import warnings\n",
    "warnings.filterwarnings(\"ignore\")"
   ]
  },
  {
   "cell_type": "code",
   "execution_count": null,
   "metadata": {},
   "outputs": [],
   "source": [
    "df_train = pd.read_csv('/kaggle/input/g-research-crypto-forecasting/train.csv')\n",
    "df_train.head()"
   ]
  },
  {
   "cell_type": "code",
   "execution_count": null,
   "metadata": {},
   "outputs": [],
   "source": [
    "asset_data = pd.read_csv('/kaggle/input/g-research-crypto-forecasting/asset_details.csv')\n",
    "asset_data"
   ]
  },
  {
   "cell_type": "code",
   "execution_count": null,
   "metadata": {},
   "outputs": [],
   "source": [
    "# Feature engineering part\n",
    "\n",
    "def log_return(series, periods=1):\n",
    "    return np.log(series).diff(periods=periods)\n",
    "\n",
    "def zscore(x, window):\n",
    "    r = x.rolling(window=window, min_periods = 1)\n",
    "    m = r.mean()\n",
    "    s = r.std(ddof=0)\n",
    "    z = (x-m)/s\n",
    "    return z\n",
    "\n",
    "# 蜡烛图中当日最高价与最高开盘价（收盘价）之差（上烛线）\n",
    "def upper_shadow(df): return df['High'] - np.maximum(df['Close'], df['Open'])\n",
    "# 蜡烛图中当日最低价与最低收盘价（开盘价）之差（下烛线）\n",
    "def lower_shadow(df): return np.minimum(df['Close'], df['Open']) - df['Low']\n",
    "#15个时间周期内最长上烛线\n",
    "def upper_shadow_15(df): return df['High'].rolling(window=15, min_periods=1).max() - np.maximum(df['Close'], df['Open']).shift(15) #15个数据点取一次\n",
    "#15个时间周期内最长下烛线\n",
    "def lower_shadow_15(df): return np.minimum(df['Close'], df['Open']).shift(15) - df['Low'].rolling(window=15, min_periods=1).min()\n",
    "\n",
    "#当日最高价与收盘价或开盘价的比值                                                    \n",
    "def upper_shadow_percent(df): return (df['High'] / np.maximum(df['Close'], df['Open'])) -1\n",
    "#当日最低价与收盘价或开盘价的比值\n",
    "def lower_shadow_percent(df): return (np.minimum(df['Close'], df['Open']) / df['Low']) -1\n",
    "#15个时间周期内最高价与收盘价或开盘价的比值                                           \n",
    "def upper_shadow_15_perc(df): return (df['High'].rolling(window=15, min_periods=1).max() / np.maximum(df['Close'], df['Open']).shift(15)) -1\n",
    "def lower_shadow_15_perc(df): return (np.minimum(df['Close'], df['Open']).shift(15) / df['Low'].rolling(window=15, min_periods=1).min()) -1\n",
    "\n",
    "# 区间开盘价振幅 = 最高开盘价与最低开盘价之比\n",
    "def open_amp(df): return df['Open'].rolling(window=15, min_periods=1).max() / df['Open'].rolling(window=15, min_periods=1).min()\n",
    "# 区间收盘价振幅 = 最高收盘价与最低收盘价之比\n",
    "def close_amp(df): return df['Close'].rolling(window=15, min_periods=1).max() / df['Close'].rolling(window=15, min_periods=1).min()\n",
    "# 区间最高价振幅 = 最大最高价与最小最高价之比\n",
    "def high_amp(df): return df['High'].rolling(window=15, min_periods=1).max() / df['High'].rolling(window=15, min_periods=1).min()\n",
    "# 区间最低价振幅 = 最大最低价与最小最低价之比\n",
    "def low_amp(df): return df['Low'].rolling(window=15, min_periods=1).max() / df['Low'].rolling(window=15, min_periods=1).min()\n",
    "# 最高价与最低价振幅 = 区间最高价与区间最低价之比\n",
    "def high_amp_low(df): return df['High'].rolling(window=15, min_periods=1).max() / df['Low'].rolling(window=15, min_periods=1).min()\n",
    "# 区间内最高价与最低价最大振幅\n",
    "def high_amp_low_day(df): return (df['High']/df['Low']).rolling(window=15, min_periods=1).max()\n",
    "\n",
    "# 区间成交量振幅 = 最大成交量与最小成交量之比\n",
    "def vol_amp(df): return df['Volume'].rolling(window=15, min_periods=1).max() / df['Volume'].rolling(window=15, min_periods=1).min()\n",
    "# 区间成交总数振幅 = 最大成交金额与最小成交金额之比\n",
    "def amount_amp(df): return df['VWAP'].rolling(window=15, min_periods=1).max() / df['VWAP'].rolling(window=15, min_periods=1).min()\n",
    "# 区间成交总数振幅 = 最大成交金额与最小成交金额之比\n",
    "def count_amp(df): return df['Count'].rolling(window=15, min_periods=1).max() / df['Count'].rolling(window=15, min_periods=1).min()\n"
   ]
  },
  {
   "cell_type": "code",
   "execution_count": null,
   "metadata": {},
   "outputs": [],
   "source": [
    "def get_features(df):\n",
    "    # feature engineering\n",
    "\n",
    "    df_feat = df[['Count', 'Open', 'High', 'Low', 'Close', 'Volume', 'VWAP']].copy()\n",
    "    df_feat['upper_shadow'] = upper_shadow(df)\n",
    "    df_feat['lower_shadow'] = lower_shadow(df)\n",
    "    df_feat['upper_shadow_15'] = upper_shadow_15(df)\n",
    "    df_feat['lower_shadow_15'] = lower_shadow_15(df)\n",
    "    df_feat['upper_shadow_percent'] = upper_shadow_percent(df)\n",
    "    df_feat['lower_shadow_percent'] = lower_shadow_percent(df)\n",
    "    df_feat['upper_shadow_15_perc'] = upper_shadow_15_perc(df)\n",
    "    df_feat['lower_shadow_15_perc'] = lower_shadow_15_perc(df)\n",
    "    df_feat['open_amp'] = open_amp(df)\n",
    "    df_feat['close_amp'] = close_amp(df)\n",
    "    df_feat['high_amp'] = high_amp(df)\n",
    "    df_feat['low_amp'] = low_amp(df)\n",
    "    df_feat['high_amp_low'] = high_amp_low(df)\n",
    "    df_feat['high_amp_low_day'] = high_amp_low_day(df)\n",
    "    df_feat['zscoreH'] = zscore(df['High'],15)\n",
    "    df_feat['zscoreL'] = zscore(df['Low'],15)\n",
    "    df_feat['zscoreC'] = zscore(df['Close'],15)\n",
    "    df_feat['zscoreO'] = zscore(df['Open'],15)\n",
    "    df_feat['vol_amp'] = vol_amp(df)\n",
    "    df_feat['count_amp'] = count_amp(df)\n",
    "    df_feat['amount_amp'] = amount_amp(df)\n",
    "    df_feat['log_return5'] = log_return(df.VWAP,periods=5)\n",
    "    df_feat['log_return1'] = log_return(df.VWAP,periods=1).abs()\n",
    "    \n",
    "    \n",
    "    return df_feat"
   ]
  },
  {
   "cell_type": "code",
   "execution_count": null,
   "metadata": {},
   "outputs": [],
   "source": [
    "from sklearn.preprocessing import StandardScaler\n",
    "\n",
    "def get_data_for_asset(df_train, asset_id):\n",
    "    # Get X and y\n",
    "    \n",
    "    df = df_train[df_train[\"Asset_ID\"] == asset_id].set_index(\"timestamp\") \n",
    "    df_proc = get_features(df)\n",
    "    df_proc['y'] = df['Target']\n",
    "    X = df_proc.drop(\"y\", axis=1)\n",
    "    y = df_proc[\"y\"]\n",
    "    \n",
    "    # select training and test periods\n",
    "    train_window = [totimestamp(\"01/05/2021\"), totimestamp(\"30/05/2021\")]\n",
    "    test_window = [totimestamp(\"01/06/2021\"), totimestamp(\"30/06/2021\")]\n",
    "    # divide data into train and test, compute X and y\n",
    "    # we aim to build simple regression models using a window_size of 1\n",
    "    \n",
    "    X_train = X.loc[train_window[0]:train_window[1]].fillna(0).to_numpy()  # filling NaN's with zeros\n",
    "    y_train = y.loc[train_window[0]:train_window[1]].fillna(0).to_numpy()  \n",
    "\n",
    "    X_test = X.loc[test_window[0]:test_window[1]].fillna(0).to_numpy() \n",
    "    y_test = y.loc[test_window[0]:test_window[1]].fillna(0).to_numpy() \n",
    "# standard   \n",
    "    scaler = StandardScaler()\n",
    "    X_train_scaled = scaler.fit_transform(X_train)\n",
    "    X_test_scaled = scaler.transform(X_test)\n",
    "    \n",
    "    return X_train_scaled, y_train, X_test_scaled, y_test"
   ]
  },
  {
   "cell_type": "code",
   "execution_count": null,
   "metadata": {},
   "outputs": [],
   "source": [
    "\n",
    "def get_testdata_for_asset(df_train, asset_id):\n",
    "    # Get X and y\n",
    "    \n",
    "    df = df_train[df_train[\"Asset_ID\"] == asset_id].set_index(\"timestamp\") \n",
    "    df_proc = get_features(df)\n",
    "    df_proc['y'] = df['Target']\n",
    "    X = df_proc.drop(\"y\", axis=1)\n",
    "    y = df_proc[\"y\"]\n",
    "    \n",
    "    # select training and test periods\n",
    "    test_window = [totimestamp(\"01/06/2021\"), totimestamp(\"30/06/2021\")]\n",
    "    # divide data into train and test, compute X and y\n",
    "    # we aim to build simple regression models using a window_size of 1\n",
    "\n",
    "    X_test = X.loc[test_window[0]:test_window[1]].fillna(0).to_numpy() \n",
    "    y_test = y.loc[test_window[0]:test_window[1]].fillna(0).to_numpy() \n",
    "\n",
    "    \n",
    "    return X_test, y_test"
   ]
  },
  {
   "cell_type": "code",
   "execution_count": null,
   "metadata": {},
   "outputs": [],
   "source": [
    "def model_training(X,y):\n",
    "    # Model training\n",
    "    \n",
    "    model = LGBMRegressor(n_estimators=5000,num_leaves=700,learning_rate=0.1)\n",
    "    model.fit(X, y)\n",
    "    \n",
    "    return model"
   ]
  },
  {
   "cell_type": "code",
   "execution_count": null,
   "metadata": {},
   "outputs": [],
   "source": [
    "%%time\n",
    "Xs = {}\n",
    "ys = {}\n",
    "models = {}\n",
    "\n",
    "for asset_id, asset_name in zip(asset_data['Asset_ID'], asset_data['Asset_Name']):\n",
    "    print(f\"Training model for {asset_name:<16} (ID={asset_id:<2})\")\n",
    "    X_train_scaled, y_train, X_test_scaled, y_test = get_data_for_asset(df_train, asset_id)    \n",
    "    model = model_training(X_train_scaled,y_train)\n",
    "    Xs[asset_id], ys[asset_id], models[asset_id] = X_train_scaled, y_train, model"
   ]
  },
  {
   "cell_type": "code",
   "execution_count": null,
   "metadata": {},
   "outputs": [],
   "source": [
    "#print(\"Check the model and it's possibility for the prediction\")\n",
    "X_test, y_test = get_testdata_for_asset(df_train, asset_id)\n",
    "df_X_test = pd.DataFrame(X_test)\n",
    "x = df_X_test.iloc[1]\n",
    "print(df_X_test.iloc[1])\n",
    "#y_pred = models[0].predict([x])\n",
    "#y_pred[0]"
   ]
  },
  {
   "cell_type": "code",
   "execution_count": null,
   "metadata": {},
   "outputs": [],
   "source": [
    "print(df_X_test)"
   ]
  },
  {
   "cell_type": "code",
   "execution_count": null,
   "metadata": {},
   "outputs": [],
   "source": [
    "#prediction test\n",
    "df_test_timestamp= df_test[df_test[\"Asset_ID\"] == 0].set_index(\"timestamp\") \n",
    "print(df_test_timestamp)\n",
    "test_features = get_features(df_test_timestamp)\n",
    "model = models[0]\n",
    "print(test_features.iloc[1])\n",
    "ytest_pred = model.predict([test_features.iloc[1]])\n",
    "print(ytest_pred)"
   ]
  },
  {
   "cell_type": "code",
   "execution_count": null,
   "metadata": {},
   "outputs": [],
   "source": [
    "sub_df = pd.DataFrame()\n",
    "for asset_id in range(14): \n",
    "    df_asset_series= df_test[df_test[\"Asset_ID\"] == asset_id].set_index(\"timestamp\") \n",
    "    model = models[asset_id]\n",
    "    asset_features = get_features(df_asset_series)\n",
    "    ytest_pred = []\n",
    "    for i in range(4):  \n",
    "        y_pred = model.predict([test_features.iloc[i]])\n",
    "#    print(y_pred)\n",
    "        ytest_pred.append(y_pred)\n",
    "    ar_test_pred = np.array(ytest_pred)\n",
    "    group_num = df_asset_series['group_num']\n",
    "    row_id = df_asset_series['row_id']\n",
    "    result = pd.concat([group_num,row_id], axis=1)\n",
    "    result['Target'] = ar_test_pred\n",
    "#    print(result)\n",
    "    sub_df = pd.concat([sub_df,result], axis=0)\n",
    "submission = sub_df.sort_values(by=['row_id'])\n",
    "    \n",
    "    \n"
   ]
  },
  {
   "cell_type": "code",
   "execution_count": null,
   "metadata": {},
   "outputs": [],
   "source": [
    "submission.to_csv('/kaggle/working/submission.csv')"
   ]
  }
 ],
 "metadata": {
  "kernelspec": {
   "display_name": "Python 3",
   "language": "python",
   "name": "python3"
  },
  "language_info": {
   "codemirror_mode": {
    "name": "ipython",
    "version": 3
   },
   "file_extension": ".py",
   "mimetype": "text/x-python",
   "name": "python",
   "nbconvert_exporter": "python",
   "pygments_lexer": "ipython3",
   "version": "3.8.5"
  }
 },
 "nbformat": 4,
 "nbformat_minor": 4
}
